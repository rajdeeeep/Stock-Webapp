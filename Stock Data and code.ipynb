{
 "cells": [
  {
   "cell_type": "code",
   "execution_count": 8,
   "id": "7d80f459",
   "metadata": {},
   "outputs": [],
   "source": [
    "import pandas as pd\n",
    "import numpy as np\n",
    "import matplotlib as plot\n",
    "import matplotlib.pyplot as plt \n"
   ]
  },
  {
   "cell_type": "code",
   "execution_count": 2,
   "id": "e31845fb",
   "metadata": {},
   "outputs": [],
   "source": [
    "import pandas_datareader as pdr"
   ]
  },
  {
   "cell_type": "code",
   "execution_count": 114,
   "id": "8f1a37e3",
   "metadata": {},
   "outputs": [
    {
     "data": {
      "text/html": [
       "<div>\n",
       "<style scoped>\n",
       "    .dataframe tbody tr th:only-of-type {\n",
       "        vertical-align: middle;\n",
       "    }\n",
       "\n",
       "    .dataframe tbody tr th {\n",
       "        vertical-align: top;\n",
       "    }\n",
       "\n",
       "    .dataframe thead th {\n",
       "        text-align: right;\n",
       "    }\n",
       "</style>\n",
       "<table border=\"1\" class=\"dataframe\">\n",
       "  <thead>\n",
       "    <tr style=\"text-align: right;\">\n",
       "      <th></th>\n",
       "      <th>High</th>\n",
       "      <th>Low</th>\n",
       "      <th>Open</th>\n",
       "      <th>Close</th>\n",
       "      <th>Volume</th>\n",
       "      <th>Adj Close</th>\n",
       "    </tr>\n",
       "    <tr>\n",
       "      <th>Date</th>\n",
       "      <th></th>\n",
       "      <th></th>\n",
       "      <th></th>\n",
       "      <th></th>\n",
       "      <th></th>\n",
       "      <th></th>\n",
       "    </tr>\n",
       "  </thead>\n",
       "  <tbody>\n",
       "    <tr>\n",
       "      <th>2009-12-31</th>\n",
       "      <td>7.619643</td>\n",
       "      <td>7.520000</td>\n",
       "      <td>7.611786</td>\n",
       "      <td>7.526071</td>\n",
       "      <td>352410800.0</td>\n",
       "      <td>6.434926</td>\n",
       "    </tr>\n",
       "    <tr>\n",
       "      <th>2010-01-04</th>\n",
       "      <td>7.660714</td>\n",
       "      <td>7.585000</td>\n",
       "      <td>7.622500</td>\n",
       "      <td>7.643214</td>\n",
       "      <td>493729600.0</td>\n",
       "      <td>6.535086</td>\n",
       "    </tr>\n",
       "    <tr>\n",
       "      <th>2010-01-05</th>\n",
       "      <td>7.699643</td>\n",
       "      <td>7.616071</td>\n",
       "      <td>7.664286</td>\n",
       "      <td>7.656429</td>\n",
       "      <td>601904800.0</td>\n",
       "      <td>6.546382</td>\n",
       "    </tr>\n",
       "    <tr>\n",
       "      <th>2010-01-06</th>\n",
       "      <td>7.686786</td>\n",
       "      <td>7.526786</td>\n",
       "      <td>7.656429</td>\n",
       "      <td>7.534643</td>\n",
       "      <td>552160000.0</td>\n",
       "      <td>6.442255</td>\n",
       "    </tr>\n",
       "    <tr>\n",
       "      <th>2010-01-07</th>\n",
       "      <td>7.571429</td>\n",
       "      <td>7.466071</td>\n",
       "      <td>7.562500</td>\n",
       "      <td>7.520714</td>\n",
       "      <td>477131200.0</td>\n",
       "      <td>6.430346</td>\n",
       "    </tr>\n",
       "  </tbody>\n",
       "</table>\n",
       "</div>"
      ],
      "text/plain": [
       "                High       Low      Open     Close       Volume  Adj Close\n",
       "Date                                                                      \n",
       "2009-12-31  7.619643  7.520000  7.611786  7.526071  352410800.0   6.434926\n",
       "2010-01-04  7.660714  7.585000  7.622500  7.643214  493729600.0   6.535086\n",
       "2010-01-05  7.699643  7.616071  7.664286  7.656429  601904800.0   6.546382\n",
       "2010-01-06  7.686786  7.526786  7.656429  7.534643  552160000.0   6.442255\n",
       "2010-01-07  7.571429  7.466071  7.562500  7.520714  477131200.0   6.430346"
      ]
     },
     "execution_count": 114,
     "metadata": {},
     "output_type": "execute_result"
    }
   ],
   "source": [
    "start = '2010-01-01'\n",
    "end= '2021-12-31'\n",
    "df = pdr.DataReader('AAPL', 'yahoo', start, end)\n",
    "df.head()"
   ]
  },
  {
   "cell_type": "code",
   "execution_count": 115,
   "id": "39854265",
   "metadata": {},
   "outputs": [
    {
     "data": {
      "text/html": [
       "<div>\n",
       "<style scoped>\n",
       "    .dataframe tbody tr th:only-of-type {\n",
       "        vertical-align: middle;\n",
       "    }\n",
       "\n",
       "    .dataframe tbody tr th {\n",
       "        vertical-align: top;\n",
       "    }\n",
       "\n",
       "    .dataframe thead th {\n",
       "        text-align: right;\n",
       "    }\n",
       "</style>\n",
       "<table border=\"1\" class=\"dataframe\">\n",
       "  <thead>\n",
       "    <tr style=\"text-align: right;\">\n",
       "      <th></th>\n",
       "      <th>Date</th>\n",
       "      <th>High</th>\n",
       "      <th>Low</th>\n",
       "      <th>Open</th>\n",
       "      <th>Close</th>\n",
       "      <th>Volume</th>\n",
       "      <th>Adj Close</th>\n",
       "    </tr>\n",
       "  </thead>\n",
       "  <tbody>\n",
       "    <tr>\n",
       "      <th>0</th>\n",
       "      <td>2009-12-31</td>\n",
       "      <td>7.619643</td>\n",
       "      <td>7.520000</td>\n",
       "      <td>7.611786</td>\n",
       "      <td>7.526071</td>\n",
       "      <td>352410800.0</td>\n",
       "      <td>6.434926</td>\n",
       "    </tr>\n",
       "    <tr>\n",
       "      <th>1</th>\n",
       "      <td>2010-01-04</td>\n",
       "      <td>7.660714</td>\n",
       "      <td>7.585000</td>\n",
       "      <td>7.622500</td>\n",
       "      <td>7.643214</td>\n",
       "      <td>493729600.0</td>\n",
       "      <td>6.535086</td>\n",
       "    </tr>\n",
       "    <tr>\n",
       "      <th>2</th>\n",
       "      <td>2010-01-05</td>\n",
       "      <td>7.699643</td>\n",
       "      <td>7.616071</td>\n",
       "      <td>7.664286</td>\n",
       "      <td>7.656429</td>\n",
       "      <td>601904800.0</td>\n",
       "      <td>6.546382</td>\n",
       "    </tr>\n",
       "    <tr>\n",
       "      <th>3</th>\n",
       "      <td>2010-01-06</td>\n",
       "      <td>7.686786</td>\n",
       "      <td>7.526786</td>\n",
       "      <td>7.656429</td>\n",
       "      <td>7.534643</td>\n",
       "      <td>552160000.0</td>\n",
       "      <td>6.442255</td>\n",
       "    </tr>\n",
       "    <tr>\n",
       "      <th>4</th>\n",
       "      <td>2010-01-07</td>\n",
       "      <td>7.571429</td>\n",
       "      <td>7.466071</td>\n",
       "      <td>7.562500</td>\n",
       "      <td>7.520714</td>\n",
       "      <td>477131200.0</td>\n",
       "      <td>6.430346</td>\n",
       "    </tr>\n",
       "  </tbody>\n",
       "</table>\n",
       "</div>"
      ],
      "text/plain": [
       "        Date      High       Low      Open     Close       Volume  Adj Close\n",
       "0 2009-12-31  7.619643  7.520000  7.611786  7.526071  352410800.0   6.434926\n",
       "1 2010-01-04  7.660714  7.585000  7.622500  7.643214  493729600.0   6.535086\n",
       "2 2010-01-05  7.699643  7.616071  7.664286  7.656429  601904800.0   6.546382\n",
       "3 2010-01-06  7.686786  7.526786  7.656429  7.534643  552160000.0   6.442255\n",
       "4 2010-01-07  7.571429  7.466071  7.562500  7.520714  477131200.0   6.430346"
      ]
     },
     "execution_count": 115,
     "metadata": {},
     "output_type": "execute_result"
    }
   ],
   "source": [
    "df = df.reset_index()\n",
    "df.head()\n"
   ]
  },
  {
   "cell_type": "code",
   "execution_count": 116,
   "id": "6a850169",
   "metadata": {},
   "outputs": [],
   "source": [
    " df =df.drop(['Date', 'Adj Close'], axis =1)"
   ]
  },
  {
   "cell_type": "code",
   "execution_count": 117,
   "id": "c72931e4",
   "metadata": {},
   "outputs": [
    {
     "data": {
      "text/plain": [
       "[<matplotlib.lines.Line2D at 0x2ae617990c0>]"
      ]
     },
     "execution_count": 117,
     "metadata": {},
     "output_type": "execute_result"
    },
    {
     "data": {
      "image/png": "[encoded data removed]",
      "text/plain": [
       "<Figure size 432x288 with 1 Axes>"
      ]
     },
     "metadata": {
      "needs_background": "light"
     },
     "output_type": "display_data"
    }
   ],
   "source": [
    "plt.plot(df.Close)"
   ]
  },
  {
   "cell_type": "code",
   "execution_count": 118,
   "id": "9559ef90",
   "metadata": {},
   "outputs": [
    {
     "data": {
      "text/plain": [
       "0            NaN\n",
       "1            NaN\n",
       "2            NaN\n",
       "3            NaN\n",
       "4            NaN\n",
       "          ...   \n",
       "3017    153.3444\n",
       "3018    153.6667\n",
       "3019    153.9991\n",
       "3020    154.3202\n",
       "3021    154.6399\n",
       "Name: Close, Length: 3022, dtype: float64"
      ]
     },
     "execution_count": 118,
     "metadata": {},
     "output_type": "execute_result"
    }
   ],
   "source": [
    "ma100 = df.Close.rolling(100).mean()\n",
    "ma100\n"
   ]
  },
  {
   "cell_type": "code",
   "execution_count": 119,
   "id": "29fe58ce",
   "metadata": {},
   "outputs": [
    {
     "data": {
      "text/plain": [
       "[<matplotlib.lines.Line2D at 0x2ae61717fd0>]"
      ]
     },
     "execution_count": 119,
     "metadata": {},
     "output_type": "execute_result"
    },
    {
     "data": {
      "image/png": "[encoded data removed]",
      "text/plain": [
       "<Figure size 864x432 with 1 Axes>"
      ]
     },
     "metadata": {
      "needs_background": "light"
     },
     "output_type": "display_data"
    }
   ],
   "source": [
    "plt.figure(figsize =(12,6))\n",
    "plt.plot(df.Close)\n",
    "plt.plot(ma100, 'red')"
   ]
  },
  {
   "cell_type": "code",
   "execution_count": 120,
   "id": "4f2d76e5",
   "metadata": {},
   "outputs": [
    {
     "data": {
      "text/plain": [
       "0             NaN\n",
       "1             NaN\n",
       "2             NaN\n",
       "3             NaN\n",
       "4             NaN\n",
       "          ...    \n",
       "3017    142.85570\n",
       "3018    143.13220\n",
       "3019    143.40125\n",
       "3020    143.66845\n",
       "3021    143.95365\n",
       "Name: Close, Length: 3022, dtype: float64"
      ]
     },
     "execution_count": 120,
     "metadata": {},
     "output_type": "execute_result"
    }
   ],
   "source": [
    "ma200 = df.Close.rolling(200).mean()\n",
    "ma200"
   ]
  },
  {
   "cell_type": "code",
   "execution_count": 121,
   "id": "e5707f37",
   "metadata": {},
   "outputs": [
    {
     "data": {
      "text/plain": [
       "[<matplotlib.lines.Line2D at 0x2ae6163a410>]"
      ]
     },
     "execution_count": 121,
     "metadata": {},
     "output_type": "execute_result"
    },
    {
     "data": {
      "image/png": "[encoded data removed]",
      "text/plain": [
       "<Figure size 864x432 with 1 Axes>"
      ]
     },
     "metadata": {
      "needs_background": "light"
     },
     "output_type": "display_data"
    }
   ],
   "source": [
    "plt.figure(figsize =(12,6))\n",
    "plt.plot(df.Close)\n",
    "plt.plot(ma100, 'red')\n",
    "plt.plot(ma200, 'g')"
   ]
  },
  {
   "cell_type": "code",
   "execution_count": 122,
   "id": "d26ae94d",
   "metadata": {},
   "outputs": [
    {
     "data": {
      "text/plain": [
       "0              NaN\n",
       "1              NaN\n",
       "2              NaN\n",
       "3              NaN\n",
       "4              NaN\n",
       "           ...    \n",
       "3017    159.597001\n",
       "3018    160.286001\n",
       "3019    160.942601\n",
       "3020    161.531401\n",
       "3021    162.097601\n",
       "Name: Close, Length: 3022, dtype: float64"
      ]
     },
     "execution_count": 122,
     "metadata": {},
     "output_type": "execute_result"
    }
   ],
   "source": [
    "ma50 = df.Close.rolling(50).mean()\n",
    "ma50"
   ]
  },
  {
   "cell_type": "code",
   "execution_count": 123,
   "id": "00636ab3",
   "metadata": {},
   "outputs": [
    {
     "data": {
      "text/plain": [
       "[<matplotlib.lines.Line2D at 0x2ae605ec730>]"
      ]
     },
     "execution_count": 123,
     "metadata": {},
     "output_type": "execute_result"
    },
    {
     "data": {
      "image/png": "[encoded data removed]",
      "text/plain": [
       "<Figure size 864x432 with 1 Axes>"
      ]
     },
     "metadata": {
      "needs_background": "light"
     },
     "output_type": "display_data"
    }
   ],
   "source": [
    "plt.figure(figsize =(12,6))\n",
    "plt.plot(df.Close)\n",
    "plt.plot(ma100, 'red')\n",
    "plt.plot(ma200, 'g')\n",
    "plt.plot(ma50, 'y')"
   ]
  },
  {
   "cell_type": "code",
   "execution_count": 124,
   "id": "44db2481",
   "metadata": {},
   "outputs": [
    {
     "data": {
      "text/plain": [
       "(3022, 5)"
      ]
     },
     "execution_count": 124,
     "metadata": {},
     "output_type": "execute_result"
    }
   ],
   "source": [
    "df.shape"
   ]
  },
  {
   "cell_type": "code",
   "execution_count": 125,
   "id": "f457dfcd",
   "metadata": {},
   "outputs": [],
   "source": [
    "#spliting data into traaining and Testing\n",
    "\n",
    "data_tr =pd.DataFrame(df['Close'][0:int(len(df)*0.70)])\n",
    "data_test =pd.DataFrame(df['Close'][int(len(df)*0.70): int(len(df))])"
   ]
  },
  {
   "cell_type": "code",
   "execution_count": 126,
   "id": "5a09ff43",
   "metadata": {},
   "outputs": [
    {
     "data": {
      "text/plain": [
       "(2115, 1)"
      ]
     },
     "execution_count": 126,
     "metadata": {},
     "output_type": "execute_result"
    }
   ],
   "source": [
    "data_tr.head(3)\n",
    "data_tr.shape\n"
   ]
  },
  {
   "cell_type": "code",
   "execution_count": 127,
   "id": "9d1fc737",
   "metadata": {},
   "outputs": [
    {
     "data": {
      "text/html": [
       "<div>\n",
       "<style scoped>\n",
       "    .dataframe tbody tr th:only-of-type {\n",
       "        vertical-align: middle;\n",
       "    }\n",
       "\n",
       "    .dataframe tbody tr th {\n",
       "        vertical-align: top;\n",
       "    }\n",
       "\n",
       "    .dataframe thead th {\n",
       "        text-align: right;\n",
       "    }\n",
       "</style>\n",
       "<table border=\"1\" class=\"dataframe\">\n",
       "  <thead>\n",
       "    <tr style=\"text-align: right;\">\n",
       "      <th></th>\n",
       "      <th>Close</th>\n",
       "    </tr>\n",
       "  </thead>\n",
       "  <tbody>\n",
       "    <tr>\n",
       "      <th>2115</th>\n",
       "      <td>46.974998</td>\n",
       "    </tr>\n",
       "    <tr>\n",
       "      <th>2116</th>\n",
       "      <td>46.875000</td>\n",
       "    </tr>\n",
       "    <tr>\n",
       "      <th>2117</th>\n",
       "      <td>46.717499</td>\n",
       "    </tr>\n",
       "    <tr>\n",
       "      <th>2118</th>\n",
       "      <td>47.560001</td>\n",
       "    </tr>\n",
       "    <tr>\n",
       "      <th>2119</th>\n",
       "      <td>47.957500</td>\n",
       "    </tr>\n",
       "  </tbody>\n",
       "</table>\n",
       "</div>"
      ],
      "text/plain": [
       "          Close\n",
       "2115  46.974998\n",
       "2116  46.875000\n",
       "2117  46.717499\n",
       "2118  47.560001\n",
       "2119  47.957500"
      ]
     },
     "execution_count": 127,
     "metadata": {},
     "output_type": "execute_result"
    }
   ],
   "source": [
    "data_test.head()"
   ]
  },
  {
   "cell_type": "code",
   "execution_count": 128,
   "id": "74ed6124",
   "metadata": {},
   "outputs": [
    {
     "name": "stdout",
     "output_type": "stream",
     "text": [
      "(2115, 1)\n",
      "(907, 1)\n"
     ]
    }
   ],
   "source": [
    "print(data_tr.shape)\n",
    "print(data_test.shape)"
   ]
  },
  {
   "cell_type": "code",
   "execution_count": 129,
   "id": "56acf5fa",
   "metadata": {},
   "outputs": [],
   "source": [
    "from sklearn.preprocessing import MinMaxScaler\n",
    "scaler = MinMaxScaler(feature_range=(0,1))"
   ]
  },
  {
   "cell_type": "code",
   "execution_count": null,
   "id": "9c21bfc9",
   "metadata": {},
   "outputs": [],
   "source": [
    "data_tr_array = scaler.fit_transform(data_tr)\n",
    "data_tr_array"
   ]
  },
  {
   "cell_type": "code",
   "execution_count": null,
   "id": "2f8d4346",
   "metadata": {},
   "outputs": [],
   "source": [
    "x_train =[]\n",
    "y_train =[]\n",
    "\n",
    "for i in range(100, data_tr_array.shape[0]):\n",
    "    x_train.append(data_tr_array[i-100: i])\n",
    "    y_train.append(data_tr_array[i: 0])"
   ]
  },
  {
   "cell_type": "code",
   "execution_count": null,
   "id": "1e100518",
   "metadata": {},
   "outputs": [],
   "source": [
    "x_train =[]\n",
    "y_train =[]\n",
    "\n",
    "for i in range(100, data_tr_array.shape[0]):\n",
    "    x_train.append(data_tr_array[i-100: i])\n",
    "    y_train.append(data_tr_array[i: 0])\n",
    "import numpy as np\n",
    "x_train, y_train =np.array(x_train), np.array(y_train)\n",
    "x_train.shape"
   ]
  },
  {
   "cell_type": "code",
   "execution_count": 133,
   "id": "f88a8a47",
   "metadata": {},
   "outputs": [],
   "source": [
    "from keras.layers import Dense, Dropout, LSTM\n",
    "from keras.models import Sequential"
   ]
  },
  {
   "cell_type": "code",
   "execution_count": 134,
   "id": "fe5e2602",
   "metadata": {},
   "outputs": [
    {
     "data": {
      "text/plain": [
       "(2015, 100, 1)"
      ]
     },
     "execution_count": 134,
     "metadata": {},
     "output_type": "execute_result"
    }
   ],
   "source": [
    "x_train.shape"
   ]
  },
  {
   "cell_type": "code",
   "execution_count": 135,
   "id": "9474afca",
   "metadata": {},
   "outputs": [],
   "source": [
    "model =Sequential()\n",
    "model.add(LSTM(units =50, activation ='relu', return_sequences = True, \n",
    "              input_shape = (x_train.shape[1], 1)))\n",
    "model.add(Dropout(0.2))"
   ]
  },
  {
   "cell_type": "code",
   "execution_count": 136,
   "id": "d3f1b84d",
   "metadata": {},
   "outputs": [],
   "source": [
    "model.add(LSTM(units =60, activation ='relu', return_sequences = True))\n",
    "model.add(Dropout(0.3))\n",
    "\n",
    "model.add(LSTM(units =80, activation ='relu', return_sequences = True))\n",
    "model.add(Dropout(0.4))\n",
    "\n",
    "model.add(LSTM(units =120, activation ='relu', return_sequences = True))\n",
    "model.add(Dropout(0.5))\n",
    "\n",
    "model.add(Dense(units =1))\n"
   ]
  },
  {
   "cell_type": "code",
   "execution_count": 137,
   "id": "4ca38342",
   "metadata": {},
   "outputs": [
    {
     "name": "stdout",
     "output_type": "stream",
     "text": [
      "Model: \"sequential_5\"\n",
      "_________________________________________________________________\n",
      " Layer (type)                Output Shape              Param #   \n",
      "=================================================================\n",
      " lstm_9 (LSTM)               (None, 100, 50)           10400     \n",
      "                                                                 \n",
      " dropout_8 (Dropout)         (None, 100, 50)           0         \n",
      "                                                                 \n",
      " lstm_10 (LSTM)              (None, 100, 60)           26640     \n",
      "                                                                 \n",
      " dropout_9 (Dropout)         (None, 100, 60)           0         \n",
      "                                                                 \n",
      " lstm_11 (LSTM)              (None, 100, 80)           45120     \n",
      "                                                                 \n",
      " dropout_10 (Dropout)        (None, 100, 80)           0         \n",
      "                                                                 \n",
      " lstm_12 (LSTM)              (None, 100, 120)          96480     \n",
      "                                                                 \n",
      " dropout_11 (Dropout)        (None, 100, 120)          0         \n",
      "                                                                 \n",
      " dense_2 (Dense)             (None, 100, 1)            121       \n",
      "                                                                 \n",
      "=================================================================\n",
      "Total params: 178,761\n",
      "Trainable params: 178,761\n",
      "Non-trainable params: 0\n",
      "_________________________________________________________________\n"
     ]
    }
   ],
   "source": [
    "model.summary()"
   ]
  },
  {
   "cell_type": "code",
   "execution_count": 140,
   "id": "e3f942b8",
   "metadata": {},
   "outputs": [
    {
     "data": {
      "text/plain": [
       "(2015, 0, 1)"
      ]
     },
     "execution_count": 140,
     "metadata": {},
     "output_type": "execute_result"
    }
   ],
   "source": [
    "x_train.shape\n",
    "y_train.shape"
   ]
  },
  {
   "cell_type": "code",
   "execution_count": 146,
   "id": "2a1ee33f",
   "metadata": {},
   "outputs": [],
   "source": [
    "model.compile(optimizer ='adam', loss = 'mean_squared_error')\n",
    "\n",
    "\n"
   ]
  },
  {
   "cell_type": "code",
   "execution_count": 147,
   "id": "3599ac0b",
   "metadata": {},
   "outputs": [],
   "source": [
    "model.save('keras_model.h5')"
   ]
  },
  {
   "cell_type": "code",
   "execution_count": 148,
   "id": "301883c2",
   "metadata": {},
   "outputs": [
    {
     "data": {
      "text/html": [
       "<div>\n",
       "<style scoped>\n",
       "    .dataframe tbody tr th:only-of-type {\n",
       "        vertical-align: middle;\n",
       "    }\n",
       "\n",
       "    .dataframe tbody tr th {\n",
       "        vertical-align: top;\n",
       "    }\n",
       "\n",
       "    .dataframe thead th {\n",
       "        text-align: right;\n",
       "    }\n",
       "</style>\n",
       "<table border=\"1\" class=\"dataframe\">\n",
       "  <thead>\n",
       "    <tr style=\"text-align: right;\">\n",
       "      <th></th>\n",
       "      <th>Close</th>\n",
       "    </tr>\n",
       "  </thead>\n",
       "  <tbody>\n",
       "    <tr>\n",
       "      <th>2115</th>\n",
       "      <td>46.974998</td>\n",
       "    </tr>\n",
       "    <tr>\n",
       "      <th>2116</th>\n",
       "      <td>46.875000</td>\n",
       "    </tr>\n",
       "    <tr>\n",
       "      <th>2117</th>\n",
       "      <td>46.717499</td>\n",
       "    </tr>\n",
       "    <tr>\n",
       "      <th>2118</th>\n",
       "      <td>47.560001</td>\n",
       "    </tr>\n",
       "    <tr>\n",
       "      <th>2119</th>\n",
       "      <td>47.957500</td>\n",
       "    </tr>\n",
       "  </tbody>\n",
       "</table>\n",
       "</div>"
      ],
      "text/plain": [
       "          Close\n",
       "2115  46.974998\n",
       "2116  46.875000\n",
       "2117  46.717499\n",
       "2118  47.560001\n",
       "2119  47.957500"
      ]
     },
     "execution_count": 148,
     "metadata": {},
     "output_type": "execute_result"
    }
   ],
   "source": [
    "data_test.head()"
   ]
  },
  {
   "cell_type": "code",
   "execution_count": 149,
   "id": "eb08e6f5",
   "metadata": {},
   "outputs": [],
   "source": [
    "past_100_days =data_tr.tail(100)"
   ]
  },
  {
   "cell_type": "code",
   "execution_count": null,
   "id": "6771a769",
   "metadata": {},
   "outputs": [],
   "source": [
    "final_df =past_100_days.append(data_tr, ignore_index=True)"
   ]
  },
  {
   "cell_type": "code",
   "execution_count": 155,
   "id": "0390ce2a",
   "metadata": {},
   "outputs": [
    {
     "data": {
      "text/html": [
       "<div>\n",
       "<style scoped>\n",
       "    .dataframe tbody tr th:only-of-type {\n",
       "        vertical-align: middle;\n",
       "    }\n",
       "\n",
       "    .dataframe tbody tr th {\n",
       "        vertical-align: top;\n",
       "    }\n",
       "\n",
       "    .dataframe thead th {\n",
       "        text-align: right;\n",
       "    }\n",
       "</style>\n",
       "<table border=\"1\" class=\"dataframe\">\n",
       "  <thead>\n",
       "    <tr style=\"text-align: right;\">\n",
       "      <th></th>\n",
       "      <th>Close</th>\n",
       "    </tr>\n",
       "  </thead>\n",
       "  <tbody>\n",
       "    <tr>\n",
       "      <th>0</th>\n",
       "      <td>43.057499</td>\n",
       "    </tr>\n",
       "    <tr>\n",
       "      <th>1</th>\n",
       "      <td>43.257500</td>\n",
       "    </tr>\n",
       "    <tr>\n",
       "      <th>2</th>\n",
       "      <td>43.750000</td>\n",
       "    </tr>\n",
       "    <tr>\n",
       "      <th>3</th>\n",
       "      <td>43.587502</td>\n",
       "    </tr>\n",
       "    <tr>\n",
       "      <th>4</th>\n",
       "      <td>43.582500</td>\n",
       "    </tr>\n",
       "  </tbody>\n",
       "</table>\n",
       "</div>"
      ],
      "text/plain": [
       "       Close\n",
       "0  43.057499\n",
       "1  43.257500\n",
       "2  43.750000\n",
       "3  43.587502\n",
       "4  43.582500"
      ]
     },
     "execution_count": 155,
     "metadata": {},
     "output_type": "execute_result"
    }
   ],
   "source": [
    "final_df.head()"
   ]
  },
  {
   "cell_type": "code",
   "execution_count": 156,
   "id": "e1e083d0",
   "metadata": {},
   "outputs": [
    {
     "data": {
      "text/plain": [
       "array([[0.8904703 ],\n",
       "       [0.89539024],\n",
       "       [0.90750555],\n",
       "       ...,\n",
       "       [0.98966821],\n",
       "       [0.98837669],\n",
       "       [0.9910212 ]])"
      ]
     },
     "execution_count": 156,
     "metadata": {},
     "output_type": "execute_result"
    }
   ],
   "source": [
    "input_data = scaler.fit_transform(final_df)\n",
    "input_data"
   ]
  },
  {
   "cell_type": "code",
   "execution_count": 157,
   "id": "ee1686b8",
   "metadata": {},
   "outputs": [
    {
     "data": {
      "text/plain": [
       "(2215, 1)"
      ]
     },
     "execution_count": 157,
     "metadata": {},
     "output_type": "execute_result"
    }
   ],
   "source": [
    "input_data.shape"
   ]
  },
  {
   "cell_type": "code",
   "execution_count": 158,
   "id": "900cf1b7",
   "metadata": {},
   "outputs": [],
   "source": [
    "x_test = []\n",
    "y_test =[]\n",
    "\n",
    "for i in range(100, input_data.shape[0]):\n",
    "    x_test.append(input_data[i-100: i])\n",
    "    y_test.append(input_data[i,0])"
   ]
  },
  {
   "cell_type": "code",
   "execution_count": 159,
   "id": "107864fb",
   "metadata": {},
   "outputs": [
    {
     "name": "stdout",
     "output_type": "stream",
     "text": [
      "(2115, 100, 1)\n",
      "(2115,)\n"
     ]
    }
   ],
   "source": [
    "x_test, y_test = np.array(x_test), np.array(y_test)\n",
    "print(x_test.shape)\n",
    "print(y_test.shape)"
   ]
  },
  {
   "cell_type": "code",
   "execution_count": 160,
   "id": "cf5e4269",
   "metadata": {},
   "outputs": [
    {
     "name": "stdout",
     "output_type": "stream",
     "text": [
      "67/67 [==============================] - 6s 69ms/step\n"
     ]
    }
   ],
   "source": [
    "y_predicted =model.predict(x_test)"
   ]
  },
  {
   "cell_type": "code",
   "execution_count": 162,
   "id": "dc715f31",
   "metadata": {},
   "outputs": [
    {
     "data": {
      "text/plain": [
       "(2115, 100, 1)"
      ]
     },
     "execution_count": 162,
     "metadata": {},
     "output_type": "execute_result"
    }
   ],
   "source": [
    "y_predicted.shape"
   ]
  },
  {
   "cell_type": "code",
   "execution_count": 163,
   "id": "2e115d17",
   "metadata": {},
   "outputs": [
    {
     "data": {
      "text/plain": [
       "array([0.01641142, 0.0192931 , 0.01961817, ..., 0.98966821, 0.98837669,\n",
       "       0.9910212 ])"
      ]
     },
     "execution_count": 163,
     "metadata": {},
     "output_type": "execute_result"
    }
   ],
   "source": [
    "y_test"
   ]
  },
  {
   "cell_type": "code",
   "execution_count": 164,
   "id": "4b41dcc7",
   "metadata": {},
   "outputs": [
    {
     "data": {
      "text/plain": [
       "array([[[2.3570343e-05],\n",
       "        [9.5123381e-05],\n",
       "        [2.3246257e-04],\n",
       "        ...,\n",
       "        [8.8620093e-03],\n",
       "        [8.9151561e-03],\n",
       "        [8.9635327e-03]],\n",
       "\n",
       "       [[2.3693556e-05],\n",
       "        [9.5791605e-05],\n",
       "        [2.3400618e-04],\n",
       "        ...,\n",
       "        [8.9151561e-03],\n",
       "        [8.9635327e-03],\n",
       "        [8.9706527e-03]],\n",
       "\n",
       "       [[2.3996634e-05],\n",
       "        [9.6623662e-05],\n",
       "        [2.3549487e-04],\n",
       "        ...,\n",
       "        [8.9635327e-03],\n",
       "        [8.9706536e-03],\n",
       "        [8.9053521e-03]],\n",
       "\n",
       "       ...,\n",
       "\n",
       "       [[2.3393097e-05],\n",
       "        [9.4018149e-05],\n",
       "        [2.2926033e-04],\n",
       "        ...,\n",
       "        [8.6749820e-03],\n",
       "        [8.7415166e-03],\n",
       "        [8.8040456e-03]],\n",
       "\n",
       "       [[2.3107626e-05],\n",
       "        [9.3592942e-05],\n",
       "        [2.2897133e-04],\n",
       "        ...,\n",
       "        [8.7415166e-03],\n",
       "        [8.8040456e-03],\n",
       "        [8.8620074e-03]],\n",
       "\n",
       "       [[2.3574969e-05],\n",
       "        [9.5019248e-05],\n",
       "        [2.3183471e-04],\n",
       "        ...,\n",
       "        [8.8040465e-03],\n",
       "        [8.8620093e-03],\n",
       "        [8.9151561e-03]]], dtype=float32)"
      ]
     },
     "execution_count": 164,
     "metadata": {},
     "output_type": "execute_result"
    }
   ],
   "source": [
    "y_predicted"
   ]
  },
  {
   "cell_type": "code",
   "execution_count": 165,
   "id": "4eb7e357",
   "metadata": {},
   "outputs": [
    {
     "data": {
      "text/plain": [
       "array([0.0245996])"
      ]
     },
     "execution_count": 165,
     "metadata": {},
     "output_type": "execute_result"
    }
   ],
   "source": [
    "scaler = scaler.scale_"
   ]
  },
  {
   "cell_type": "code",
   "execution_count": 166,
   "id": "b01bf45c",
   "metadata": {},
   "outputs": [],
   "source": [
    "scale_factor = 1/0.0245996\n",
    "y_predicted = y_predicted * scale_factor\n",
    "y_test = y_test* scale_factor"
   ]
  },
  {
   "cell_type": "code",
   "execution_count": null,
   "id": "e4e34356",
   "metadata": {},
   "outputs": [],
   "source": [
    "plt.figure(figsize =(12,6))\n",
    "plt.plot(y_test, 'b', label ='Original Price')\n",
    "plt.plot(y_predicted, 'r', label ='Predicted Price')\n",
    "plt.xlabel('Time')\n",
    "plt.ylabel('Price')\n",
    "plt.legend()\n",
    "plt.show()\n"
   ]
  },
  {
   "cell_type": "code",
   "execution_count": null,
   "id": "9e0ca51b",
   "metadata": {},
   "outputs": [],
   "source": []
  }
 ],
 "metadata": {
  "kernelspec": {
   "display_name": "Python 3 (ipykernel)",
   "language": "python",
   "name": "python3"
  },
  "language_info": {
   "codemirror_mode": {
    "name": "ipython",
    "version": 3
   },
   "file_extension": ".py",
   "mimetype": "text/x-python",
   "name": "python",
   "nbconvert_exporter": "python",
   "pygments_lexer": "ipython3",
   "version": "3.10.4"
  }
 },
 "nbformat": 4,
 "nbformat_minor": 5
}
